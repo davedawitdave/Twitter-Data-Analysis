{
 "cells": [
  {
   "cell_type": "code",
   "execution_count": 1,
   "id": "8de423ab",
   "metadata": {},
   "outputs": [],
   "source": [
    "import pandas as pd\n",
    "import numpy as np\n",
    "import matplotlib.pyplot as plt\n",
    "from sklearn.model_selection import train_test_split\n",
    "from sklearn.linear_model import SGDClassifier\n",
    "from sklearn.linear_model import SGDClassifier\n",
    "from sklearn.preprocessing import StandardScaler\n",
    "from sklearn.pipeline import make_pipeline\n",
    "from sklearn.feature_extraction.text import CountVectorizer\n",
    "import re\n"
   ]
  },
  {
   "cell_type": "code",
   "execution_count": 2,
   "id": "1444d38d",
   "metadata": {},
   "outputs": [],
   "source": [
    "from extract_dataframe import read_json         # a function to load json_data \n",
    "from extract_dataframe import TweetDfExtractor  # and a class to extract relevant variables.    \n",
    "from clean_tweets_dataframe import Clean_Tweets        # collection of functions to for cleaning the dataframe.\n"
   ]
  },
  {
   "cell_type": "markdown",
   "id": "72505847",
   "metadata": {},
   "source": [
    "load json "
   ]
  },
  {
   "cell_type": "code",
   "execution_count": null,
   "id": "0e347e2c",
   "metadata": {},
   "outputs": [],
   "source": []
  },
  {
   "cell_type": "code",
   "execution_count": null,
   "id": "25cc8b24",
   "metadata": {},
   "outputs": [],
   "source": []
  },
  {
   "cell_type": "code",
   "execution_count": 3,
   "id": "a1bf5fba",
   "metadata": {},
   "outputs": [
    {
     "name": "stdout",
     "output_type": "stream",
     "text": [
      "File Successfully Saved.!!!\n",
      "Please, load the CSV file\n"
     ]
    }
   ],
   "source": [
    "_, tweet_list = read_json(\"data/africa_twitter_data.json\")\n",
    "tweet = TweetDfExtractor(tweet_list)\n",
    "tweet.get_tweet_df(True)  # this will also generate a CSV file.\n",
    "print(\"Please, load the CSV file\")"
   ]
  },
  {
   "cell_type": "markdown",
   "id": "027ea9da",
   "metadata": {},
   "source": [
    "Load the CSV"
   ]
  },
  {
   "cell_type": "code",
   "execution_count": null,
   "id": "a645b083",
   "metadata": {},
   "outputs": [],
   "source": []
  },
  {
   "cell_type": "code",
   "execution_count": 4,
   "id": "c74dc534",
   "metadata": {},
   "outputs": [],
   "source": [
    "tweet_df = pd.read_csv('processed_tweet_data.csv')  # loads the csv file created above.\n"
   ]
  },
  {
   "cell_type": "code",
   "execution_count": 5,
   "id": "74664a06",
   "metadata": {},
   "outputs": [
    {
     "data": {
      "text/html": [
       "<div>\n",
       "<style scoped>\n",
       "    .dataframe tbody tr th:only-of-type {\n",
       "        vertical-align: middle;\n",
       "    }\n",
       "\n",
       "    .dataframe tbody tr th {\n",
       "        vertical-align: top;\n",
       "    }\n",
       "\n",
       "    .dataframe thead th {\n",
       "        text-align: right;\n",
       "    }\n",
       "</style>\n",
       "<table border=\"1\" class=\"dataframe\">\n",
       "  <thead>\n",
       "    <tr style=\"text-align: right;\">\n",
       "      <th></th>\n",
       "      <th>created_at</th>\n",
       "      <th>source</th>\n",
       "      <th>original_text</th>\n",
       "      <th>clean_text</th>\n",
       "      <th>polarity</th>\n",
       "      <th>subjectivity</th>\n",
       "      <th>lang</th>\n",
       "      <th>favorite_count</th>\n",
       "      <th>retweet_count</th>\n",
       "      <th>original_author</th>\n",
       "      <th>followers_count</th>\n",
       "      <th>friends_count</th>\n",
       "      <th>possibly_sensitive</th>\n",
       "      <th>hashtags</th>\n",
       "      <th>statuses_count</th>\n",
       "      <th>user_mentions</th>\n",
       "      <th>place</th>\n",
       "    </tr>\n",
       "  </thead>\n",
       "  <tbody>\n",
       "    <tr>\n",
       "      <th>0</th>\n",
       "      <td>Wed Aug 03 20:19:13 +0000 2022</td>\n",
       "      <td>&lt;a href=\"http://twitter.com/download/android\" ...</td>\n",
       "      <td>['#Pelosi airplane landed safely in #Taiwan 🇹🇼...</td>\n",
       "      <td>['#Pelosi airplane landed safely in #Taiwan 🇹🇼...</td>\n",
       "      <td>0.3</td>\n",
       "      <td>0.203571</td>\n",
       "      <td>en</td>\n",
       "      <td>697</td>\n",
       "      <td>0</td>\n",
       "      <td>DzCritical</td>\n",
       "      <td>318</td>\n",
       "      <td>373</td>\n",
       "      <td>NaN</td>\n",
       "      <td>[{'text': 'Pelosi', 'indices': [0, 7]}, {'text...</td>\n",
       "      <td>888</td>\n",
       "      <td>[]</td>\n",
       "      <td>Algérie</td>\n",
       "    </tr>\n",
       "    <tr>\n",
       "      <th>1</th>\n",
       "      <td>Tue Aug 02 15:24:42 +0000 2022</td>\n",
       "      <td>&lt;a href=\"https://mobile.twitter.com\" rel=\"nofo...</td>\n",
       "      <td>['#Pelosi airplane landed safely in #Taiwan 🇹🇼...</td>\n",
       "      <td>['#Pelosi airplane landed safely in #Taiwan 🇹🇼...</td>\n",
       "      <td>0.0</td>\n",
       "      <td>0.000000</td>\n",
       "      <td>en</td>\n",
       "      <td>2160</td>\n",
       "      <td>0</td>\n",
       "      <td>toopsat</td>\n",
       "      <td>764</td>\n",
       "      <td>144</td>\n",
       "      <td>False</td>\n",
       "      <td>[{'text': 'Pelosi', 'indices': [149, 156]}, {'...</td>\n",
       "      <td>1597</td>\n",
       "      <td>[]</td>\n",
       "      <td>NaN</td>\n",
       "    </tr>\n",
       "  </tbody>\n",
       "</table>\n",
       "</div>"
      ],
      "text/plain": [
       "                       created_at  \\\n",
       "0  Wed Aug 03 20:19:13 +0000 2022   \n",
       "1  Tue Aug 02 15:24:42 +0000 2022   \n",
       "\n",
       "                                              source  \\\n",
       "0  <a href=\"http://twitter.com/download/android\" ...   \n",
       "1  <a href=\"https://mobile.twitter.com\" rel=\"nofo...   \n",
       "\n",
       "                                       original_text  \\\n",
       "0  ['#Pelosi airplane landed safely in #Taiwan 🇹🇼...   \n",
       "1  ['#Pelosi airplane landed safely in #Taiwan 🇹🇼...   \n",
       "\n",
       "                                          clean_text  polarity  subjectivity  \\\n",
       "0  ['#Pelosi airplane landed safely in #Taiwan 🇹🇼...       0.3      0.203571   \n",
       "1  ['#Pelosi airplane landed safely in #Taiwan 🇹🇼...       0.0      0.000000   \n",
       "\n",
       "  lang  favorite_count  retweet_count original_author  followers_count  \\\n",
       "0   en             697              0      DzCritical              318   \n",
       "1   en            2160              0         toopsat              764   \n",
       "\n",
       "   friends_count possibly_sensitive  \\\n",
       "0            373                NaN   \n",
       "1            144              False   \n",
       "\n",
       "                                            hashtags  statuses_count  \\\n",
       "0  [{'text': 'Pelosi', 'indices': [0, 7]}, {'text...             888   \n",
       "1  [{'text': 'Pelosi', 'indices': [149, 156]}, {'...            1597   \n",
       "\n",
       "  user_mentions    place  \n",
       "0            []  Algérie  \n",
       "1            []      NaN  "
      ]
     },
     "execution_count": 5,
     "metadata": {},
     "output_type": "execute_result"
    }
   ],
   "source": [
    "tweet_df"
   ]
  },
  {
   "cell_type": "code",
   "execution_count": 6,
   "id": "977b5866",
   "metadata": {},
   "outputs": [
    {
     "data": {
      "text/plain": [
       "(2, 17)"
      ]
     },
     "execution_count": 6,
     "metadata": {},
     "output_type": "execute_result"
    }
   ],
   "source": [
    "tweet_df.shape"
   ]
  },
  {
   "cell_type": "code",
   "execution_count": 7,
   "id": "00480a52",
   "metadata": {},
   "outputs": [
    {
     "name": "stdout",
     "output_type": "stream",
     "text": [
      "Automation in Action...!!!\n",
      "Duplicate rows successfully removed\n"
     ]
    }
   ],
   "source": [
    "cleaner = Clean_Tweets(tweet_df)\n",
    "tweet_df = cleaner.drop_unwanted_column(tweet_df)\n",
    "tweet_df = cleaner.drop_duplicate(tweet_df)\n",
    "tweet_df = cleaner.convert_to_datetime(tweet_df)\n",
    "tweet_df = cleaner.convert_to_numbers(tweet_df)\n",
    "clean_tweet_df = cleaner.remove_non_english_tweets(tweet_df)\n"
   ]
  },
  {
   "cell_type": "code",
   "execution_count": 8,
   "id": "775c8321",
   "metadata": {},
   "outputs": [
    {
     "data": {
      "text/plain": [
       "(2, 17)"
      ]
     },
     "execution_count": 8,
     "metadata": {},
     "output_type": "execute_result"
    }
   ],
   "source": [
    "clean_tweet_df.shape"
   ]
  },
  {
   "cell_type": "code",
   "execution_count": null,
   "id": "a0d61cc7",
   "metadata": {},
   "outputs": [],
   "source": [
    "clean_tweet_df.describe() "
   ]
  },
  {
   "cell_type": "code",
   "execution_count": null,
   "id": "2beecb8e",
   "metadata": {},
   "outputs": [],
   "source": [
    "# selecting only the relevant variables for further analysis\n",
    "sho_tweet_df = clean_tweet_df.drop(['original_text', 'user_mentions', 'possibly_sensitive'], axis=1)\n",
    "loc_tweet_df = sho_tweet_df.dropna() # droping rows with null values\n",
    "\n",
    "#resetting indexes\n",
    "sho_tweet_df = sho_tweet_df.reset_index();\n",
    "sho_tweet_df = sho_tweet_df.drop(columns=['index'])\n",
    "\n",
    "loc_tweet_df = loc_tweet_df.reset_index();\n",
    "loc_tweet_df = loc_tweet_df.drop(columns=['index'])\n",
    "\n",
    "print(clean_tweet_df.shape)\n",
    "print(sho_tweet_df.shape)\n",
    "print(loc_tweet_df.shape)"
   ]
  },
  {
   "cell_type": "code",
   "execution_count": null,
   "id": "2dd91110",
   "metadata": {},
   "outputs": [],
   "source": [
    "def sentiment_group (p): \n",
    "    if p > 0:\n",
    "        return 'positive'\n",
    "    elif p < 0:\n",
    "        return 'negative'\n",
    "    else:\n",
    "        return 'neutral'"
   ]
  },
  {
   "cell_type": "code",
   "execution_count": null,
   "id": "20b28531",
   "metadata": {},
   "outputs": [],
   "source": [
    "sentiment = pd.Series([sentiment_group(row_val) for row_val in list(loc_tweet_df['polarity'])])\n"
   ]
  },
  {
   "cell_type": "code",
   "execution_count": null,
   "id": "02244b8f",
   "metadata": {},
   "outputs": [],
   "source": [
    "sho_tweet_df = pd.concat([sho_tweet_df, sentiment.rename(\"sentiment\")], axis=1)\n",
    "loc_tweet_df = pd.concat([loc_tweet_df, sentiment.rename(\"sentiment\")], axis=1)\n",
    "\n",
    "sho_tweet_df.info()"
   ]
  },
  {
   "cell_type": "code",
   "execution_count": null,
   "id": "51695f1a",
   "metadata": {},
   "outputs": [],
   "source": []
  },
  {
   "cell_type": "code",
   "execution_count": null,
   "id": "0c1944ef",
   "metadata": {},
   "outputs": [],
   "source": []
  }
 ],
 "metadata": {
  "kernelspec": {
   "display_name": "Python 3 (ipykernel)",
   "language": "python",
   "name": "python3"
  },
  "language_info": {
   "codemirror_mode": {
    "name": "ipython",
    "version": 3
   },
   "file_extension": ".py",
   "mimetype": "text/x-python",
   "name": "python",
   "nbconvert_exporter": "python",
   "pygments_lexer": "ipython3",
   "version": "3.8.8"
  },
  "vscode": {
   "interpreter": {
    "hash": "a64e837968ba76e94c56c9b4d5fd774eaa292be1ba63723c587f1d17b7450a36"
   }
  }
 },
 "nbformat": 4,
 "nbformat_minor": 5
}
