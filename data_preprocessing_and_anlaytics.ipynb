{
 "cells": [
  {
   "cell_type": "code",
   "execution_count": 1,
   "id": "8de423ab",
   "metadata": {},
   "outputs": [],
   "source": [
    "import pandas as pd\n",
    "import numpy as np\n",
    "import matplotlib.pyplot as plt\n",
    "from sklearn.model_selection import train_test_split\n",
    "from sklearn.linear_model import SGDClassifier\n",
    "from sklearn.linear_model import SGDClassifier\n",
    "from sklearn.preprocessing import StandardScaler\n",
    "from sklearn.pipeline import make_pipeline\n",
    "from sklearn.feature_extraction.text import CountVectorizer\n",
    "import re\n"
   ]
  },
  {
   "cell_type": "code",
   "execution_count": 2,
   "id": "1444d38d",
   "metadata": {},
   "outputs": [],
   "source": [
    "from extract_dataframe import read_json         # a function to load json_data \n",
    "from extract_dataframe import TweetDfExtractor  # and a class to extract relevant variables.    \n",
    "from clean_tweets_dataframe import Clean_Tweets        # collection of functions to for cleaning the dataframe.\n"
   ]
  },
  {
   "cell_type": "markdown",
   "id": "72505847",
   "metadata": {},
   "source": [
    "load json "
   ]
  },
  {
   "cell_type": "code",
   "execution_count": null,
   "id": "0e347e2c",
   "metadata": {},
   "outputs": [],
   "source": []
  },
  {
   "cell_type": "code",
   "execution_count": null,
   "id": "25cc8b24",
   "metadata": {},
   "outputs": [],
   "source": []
  },
  {
   "cell_type": "code",
   "execution_count": 3,
   "id": "a1bf5fba",
   "metadata": {},
   "outputs": [
    {
     "name": "stdout",
     "output_type": "stream",
     "text": [
      "File Successfully Saved.!!!\n",
      "Please, load the CSV file\n"
     ]
    }
   ],
   "source": [
    "_, tweet_list = read_json(\"data/africa_twitter_data.json\")\n",
    "tweet = TweetDfExtractor(tweet_list)\n",
    "tweet.get_tweet_df(True)  # this will also generate a CSV file.\n",
    "print(\"Please, load the CSV file\")"
   ]
  },
  {
   "cell_type": "markdown",
   "id": "027ea9da",
   "metadata": {},
   "source": [
    "Load the CSV"
   ]
  },
  {
   "cell_type": "code",
   "execution_count": null,
   "id": "a645b083",
   "metadata": {},
   "outputs": [],
   "source": []
  },
  {
   "cell_type": "code",
   "execution_count": 4,
   "id": "c74dc534",
   "metadata": {},
   "outputs": [],
   "source": [
    "tweet_df = pd.read_csv('processed_tweet_data.csv')  # loads the csv file created above.\n"
   ]
  },
  {
   "cell_type": "code",
   "execution_count": null,
   "id": "74664a06",
   "metadata": {},
   "outputs": [],
   "source": []
  },
  {
   "cell_type": "code",
   "execution_count": 6,
   "id": "977b5866",
   "metadata": {},
   "outputs": [
    {
     "data": {
      "text/plain": [
       "(222, 17)"
      ]
     },
     "execution_count": 6,
     "metadata": {},
     "output_type": "execute_result"
    }
   ],
   "source": [
    "tweet_df.shape"
   ]
  },
  {
   "cell_type": "code",
   "execution_count": 7,
   "id": "00480a52",
   "metadata": {},
   "outputs": [
    {
     "name": "stdout",
     "output_type": "stream",
     "text": [
      "Automation in Action...!!!\n",
      "Duplicate rows successfully removed\n"
     ]
    }
   ],
   "source": [
    "cleaner = Clean_Tweets(tweet_df)\n",
    "tweet_df = cleaner.drop_unwanted_column(tweet_df)\n",
    "tweet_df = cleaner.drop_duplicate(tweet_df)\n",
    "tweet_df = cleaner.convert_to_datetime(tweet_df)\n",
    "tweet_df = cleaner.convert_to_numbers(tweet_df)\n",
    "clean_tweet_df = cleaner.remove_non_english_tweets(tweet_df)\n"
   ]
  },
  {
   "cell_type": "code",
   "execution_count": 8,
   "id": "775c8321",
   "metadata": {},
   "outputs": [
    {
     "data": {
      "text/plain": [
       "(222, 17)"
      ]
     },
     "execution_count": 8,
     "metadata": {},
     "output_type": "execute_result"
    }
   ],
   "source": [
    "clean_tweet_df.shape"
   ]
  },
  {
   "cell_type": "code",
   "execution_count": 9,
   "id": "a0d61cc7",
   "metadata": {},
   "outputs": [
    {
     "data": {
      "text/html": [
       "<div>\n",
       "<style scoped>\n",
       "    .dataframe tbody tr th:only-of-type {\n",
       "        vertical-align: middle;\n",
       "    }\n",
       "\n",
       "    .dataframe tbody tr th {\n",
       "        vertical-align: top;\n",
       "    }\n",
       "\n",
       "    .dataframe thead th {\n",
       "        text-align: right;\n",
       "    }\n",
       "</style>\n",
       "<table border=\"1\" class=\"dataframe\">\n",
       "  <thead>\n",
       "    <tr style=\"text-align: right;\">\n",
       "      <th></th>\n",
       "      <th>polarity</th>\n",
       "      <th>subjectivity</th>\n",
       "      <th>favorite_count</th>\n",
       "      <th>retweet_count</th>\n",
       "      <th>followers_count</th>\n",
       "      <th>friends_count</th>\n",
       "    </tr>\n",
       "  </thead>\n",
       "  <tbody>\n",
       "    <tr>\n",
       "      <th>count</th>\n",
       "      <td>222.0</td>\n",
       "      <td>222.0</td>\n",
       "      <td>222.000000</td>\n",
       "      <td>222.000000</td>\n",
       "      <td>222.000000</td>\n",
       "      <td>222.000000</td>\n",
       "    </tr>\n",
       "    <tr>\n",
       "      <th>mean</th>\n",
       "      <td>0.0</td>\n",
       "      <td>0.0</td>\n",
       "      <td>8443.022523</td>\n",
       "      <td>1.639640</td>\n",
       "      <td>6408.864865</td>\n",
       "      <td>1399.135135</td>\n",
       "    </tr>\n",
       "    <tr>\n",
       "      <th>std</th>\n",
       "      <td>0.0</td>\n",
       "      <td>0.0</td>\n",
       "      <td>20149.243557</td>\n",
       "      <td>7.147816</td>\n",
       "      <td>65959.680158</td>\n",
       "      <td>7048.253677</td>\n",
       "    </tr>\n",
       "    <tr>\n",
       "      <th>min</th>\n",
       "      <td>0.0</td>\n",
       "      <td>0.0</td>\n",
       "      <td>0.000000</td>\n",
       "      <td>0.000000</td>\n",
       "      <td>0.000000</td>\n",
       "      <td>1.000000</td>\n",
       "    </tr>\n",
       "    <tr>\n",
       "      <th>25%</th>\n",
       "      <td>0.0</td>\n",
       "      <td>0.0</td>\n",
       "      <td>284.000000</td>\n",
       "      <td>0.000000</td>\n",
       "      <td>97.000000</td>\n",
       "      <td>158.500000</td>\n",
       "    </tr>\n",
       "    <tr>\n",
       "      <th>50%</th>\n",
       "      <td>0.0</td>\n",
       "      <td>0.0</td>\n",
       "      <td>1070.500000</td>\n",
       "      <td>0.000000</td>\n",
       "      <td>351.000000</td>\n",
       "      <td>382.000000</td>\n",
       "    </tr>\n",
       "    <tr>\n",
       "      <th>75%</th>\n",
       "      <td>0.0</td>\n",
       "      <td>0.0</td>\n",
       "      <td>4209.250000</td>\n",
       "      <td>1.000000</td>\n",
       "      <td>1107.250000</td>\n",
       "      <td>954.000000</td>\n",
       "    </tr>\n",
       "    <tr>\n",
       "      <th>max</th>\n",
       "      <td>0.0</td>\n",
       "      <td>0.0</td>\n",
       "      <td>158375.000000</td>\n",
       "      <td>91.000000</td>\n",
       "      <td>977705.000000</td>\n",
       "      <td>103722.000000</td>\n",
       "    </tr>\n",
       "  </tbody>\n",
       "</table>\n",
       "</div>"
      ],
      "text/plain": [
       "       polarity  subjectivity  favorite_count  retweet_count  followers_count  \\\n",
       "count     222.0         222.0      222.000000     222.000000       222.000000   \n",
       "mean        0.0           0.0     8443.022523       1.639640      6408.864865   \n",
       "std         0.0           0.0    20149.243557       7.147816     65959.680158   \n",
       "min         0.0           0.0        0.000000       0.000000         0.000000   \n",
       "25%         0.0           0.0      284.000000       0.000000        97.000000   \n",
       "50%         0.0           0.0     1070.500000       0.000000       351.000000   \n",
       "75%         0.0           0.0     4209.250000       1.000000      1107.250000   \n",
       "max         0.0           0.0   158375.000000      91.000000    977705.000000   \n",
       "\n",
       "       friends_count  \n",
       "count     222.000000  \n",
       "mean     1399.135135  \n",
       "std      7048.253677  \n",
       "min         1.000000  \n",
       "25%       158.500000  \n",
       "50%       382.000000  \n",
       "75%       954.000000  \n",
       "max    103722.000000  "
      ]
     },
     "execution_count": 9,
     "metadata": {},
     "output_type": "execute_result"
    }
   ],
   "source": [
    "clean_tweet_df.describe() "
   ]
  },
  {
   "cell_type": "code",
   "execution_count": 10,
   "id": "2beecb8e",
   "metadata": {},
   "outputs": [
    {
     "name": "stdout",
     "output_type": "stream",
     "text": [
      "(222, 17)\n",
      "(222, 14)\n",
      "(218, 14)\n"
     ]
    }
   ],
   "source": [
    "# selecting only the relevant variables for further analysis\n",
    "sho_tweet_df = clean_tweet_df.drop(['original_text', 'user_mentions', 'possibly_sensitive'], axis=1)\n",
    "loc_tweet_df = sho_tweet_df.dropna() # droping rows with null values\n",
    "\n",
    "#resetting indexes\n",
    "sho_tweet_df = sho_tweet_df.reset_index();\n",
    "sho_tweet_df = sho_tweet_df.drop(columns=['index'])\n",
    "\n",
    "loc_tweet_df = loc_tweet_df.reset_index();\n",
    "loc_tweet_df = loc_tweet_df.drop(columns=['index'])\n",
    "\n",
    "print(clean_tweet_df.shape)\n",
    "print(sho_tweet_df.shape)\n",
    "print(loc_tweet_df.shape)"
   ]
  },
  {
   "cell_type": "code",
   "execution_count": 11,
   "id": "2dd91110",
   "metadata": {},
   "outputs": [],
   "source": [
    "def sentiment_group (p): \n",
    "    if p > 0:\n",
    "        return 'positive'\n",
    "    elif p < 0:\n",
    "        return 'negative'\n",
    "    else:\n",
    "        return 'neutral'"
   ]
  },
  {
   "cell_type": "code",
   "execution_count": 12,
   "id": "d4661917",
   "metadata": {},
   "outputs": [],
   "source": [
    "sentiment = pd.Series([sentiment_group(row_val) for row_val in list(loc_tweet_df['polarity'])])\n"
   ]
  },
  {
   "cell_type": "code",
   "execution_count": 13,
   "id": "3e74246a",
   "metadata": {},
   "outputs": [
    {
     "name": "stdout",
     "output_type": "stream",
     "text": [
      "<class 'pandas.core.frame.DataFrame'>\n",
      "RangeIndex: 222 entries, 0 to 221\n",
      "Data columns (total 15 columns):\n",
      " #   Column           Non-Null Count  Dtype              \n",
      "---  ------           --------------  -----              \n",
      " 0   created_at       222 non-null    datetime64[ns, UTC]\n",
      " 1   source           222 non-null    object             \n",
      " 2   clean_text       222 non-null    object             \n",
      " 3   polarity         222 non-null    float64            \n",
      " 4   subjectivity     222 non-null    float64            \n",
      " 5   lang             222 non-null    object             \n",
      " 6   favorite_count   222 non-null    int64              \n",
      " 7   retweet_count    222 non-null    int64              \n",
      " 8   screen_name      222 non-null    object             \n",
      " 9   original_author  222 non-null    object             \n",
      " 10  followers_count  222 non-null    int64              \n",
      " 11  friends_count    222 non-null    int64              \n",
      " 12  hashtags         222 non-null    object             \n",
      " 13  place            218 non-null    object             \n",
      " 14  sentiment        218 non-null    object             \n",
      "dtypes: datetime64[ns, UTC](1), float64(2), int64(4), object(8)\n",
      "memory usage: 26.1+ KB\n"
     ]
    }
   ],
   "source": [
    "sho_tweet_df = pd.concat([sho_tweet_df, sentiment.rename(\"sentiment\")], axis=1)\n",
    "loc_tweet_df = pd.concat([loc_tweet_df, sentiment.rename(\"sentiment\")], axis=1)\n",
    "\n",
    "sho_tweet_df.info()"
   ]
  },
  {
   "cell_type": "code",
   "execution_count": null,
   "id": "5dd86e9f",
   "metadata": {},
   "outputs": [],
   "source": []
  },
  {
   "cell_type": "code",
   "execution_count": null,
   "id": "aeb4ad1d",
   "metadata": {},
   "outputs": [],
   "source": []
  },
  {
   "cell_type": "code",
   "execution_count": null,
   "id": "2218359b",
   "metadata": {},
   "outputs": [],
   "source": []
  }
 ],
 "metadata": {
  "kernelspec": {
   "display_name": "Python 3 (ipykernel)",
   "language": "python",
   "name": "python3"
  },
  "language_info": {
   "codemirror_mode": {
    "name": "ipython",
    "version": 3
   },
   "file_extension": ".py",
   "mimetype": "text/x-python",
   "name": "python",
   "nbconvert_exporter": "python",
   "pygments_lexer": "ipython3",
   "version": "3.8.8"
  },
  "vscode": {
   "interpreter": {
    "hash": "a64e837968ba76e94c56c9b4d5fd774eaa292be1ba63723c587f1d17b7450a36"
   }
  }
 },
 "nbformat": 4,
 "nbformat_minor": 5
}
