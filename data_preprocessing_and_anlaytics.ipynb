{
 "cells": [
  {
   "cell_type": "code",
   "execution_count": null,
   "id": "8de423ab",
   "metadata": {},
   "outputs": [],
   "source": [
    "import pandas as pd\n",
    "import numpy as np\n",
    "import matplotlib.pyplot as plt\n",
    "from sklearn.model_selection import train_test_split\n",
    "from sklearn.linear_model import SGDClassifier\n",
    "from sklearn.linear_model import SGDClassifier\n",
    "from sklearn.preprocessing import StandardScaler\n",
    "from sklearn.pipeline import make_pipeline\n",
    "from sklearn.feature_extraction.text import CountVectorizer\n",
    "import re\n"
   ]
  },
  {
   "cell_type": "code",
   "execution_count": null,
   "id": "1444d38d",
   "metadata": {},
   "outputs": [],
   "source": [
    "from extract_dataframe import read_json         # a function to load json_data \n",
    "from extract_dataframe import TweetDfExtractor  # and a class to extract relevant variables.    \n",
    "from clean_tweets_dataframe import Clean_Tweets        # collection of functions to for cleaning the dataframe.\n",
    "#import dashboard_manager as ds_m   # imports a list of functions to create a dashboard\n",
    "import database_management as db_m  # a list of functions to create a database, create tables, and manage data input-output.\n"
   ]
  },
  {
   "cell_type": "markdown",
   "id": "72505847",
   "metadata": {},
   "source": [
    "load json "
   ]
  },
  {
   "cell_type": "code",
   "execution_count": null,
   "id": "0e347e2c",
   "metadata": {},
   "outputs": [],
   "source": []
  },
  {
   "cell_type": "code",
   "execution_count": null,
   "id": "25cc8b24",
   "metadata": {},
   "outputs": [],
   "source": []
  },
  {
   "cell_type": "code",
   "execution_count": null,
   "id": "a1bf5fba",
   "metadata": {},
   "outputs": [],
   "source": [
    "_, tweet_list = read_json(\"data/world_twitter_data.json\")\n",
    "tweet = TweetDfExtractor(tweet_list)\n",
    "tweet.get_tweet_df(True)  # this will also generate a CSV file.\n",
    "print(\"Please, load the CSV file\")"
   ]
  },
  {
   "cell_type": "markdown",
   "id": "027ea9da",
   "metadata": {},
   "source": [
    "Load the CSV"
   ]
  },
  {
   "cell_type": "code",
   "execution_count": null,
   "id": "a645b083",
   "metadata": {},
   "outputs": [],
   "source": []
  },
  {
   "cell_type": "code",
   "execution_count": null,
   "id": "c74dc534",
   "metadata": {},
   "outputs": [],
   "source": [
    "tweet_df = pd.read_csv('processed_tweet_data.csv')  # loads the csv file created above.\n"
   ]
  },
  {
   "cell_type": "code",
   "execution_count": null,
   "id": "74664a06",
   "metadata": {},
   "outputs": [],
   "source": []
  },
  {
   "cell_type": "code",
   "execution_count": null,
   "id": "977b5866",
   "metadata": {},
   "outputs": [],
   "source": [
    "tweet_df.shape"
   ]
  },
  {
   "cell_type": "code",
   "execution_count": null,
   "id": "00480a52",
   "metadata": {},
   "outputs": [],
   "source": [
    "cleaner = Clean_Tweets(tweet_df)\n",
    "tweet_df = cleaner.drop_unwanted_column(tweet_df)\n",
    "tweet_df = cleaner.drop_duplicate(tweet_df)\n",
    "tweet_df = cleaner.convert_to_datetime(tweet_df)\n",
    "tweet_df = cleaner.convert_to_numbers(tweet_df)\n",
    "clean_tweet_df = cleaner.remove_non_english_tweets(tweet_df)\n"
   ]
  },
  {
   "cell_type": "code",
   "execution_count": null,
   "id": "775c8321",
   "metadata": {},
   "outputs": [],
   "source": [
    "clean_tweet_df.shape"
   ]
  },
  {
   "cell_type": "code",
   "execution_count": null,
   "id": "a0d61cc7",
   "metadata": {},
   "outputs": [],
   "source": [
    "clean_tweet_df.describe() "
   ]
  },
  {
   "cell_type": "code",
   "execution_count": null,
   "id": "2beecb8e",
   "metadata": {},
   "outputs": [],
   "source": [
    "# selecting only the relevant variables for further analysis\n",
    "sho_tweet_df = clean_tweet_df.drop(['original_text', 'user_mentions', 'possibly_sensitive'], axis=1)\n",
    "loc_tweet_df = sho_tweet_df.dropna() # droping rows with null values\n",
    "\n",
    "#resetting indexes\n",
    "sho_tweet_df = sho_tweet_df.reset_index();\n",
    "sho_tweet_df = sho_tweet_df.drop(columns=['index'])\n",
    "\n",
    "loc_tweet_df = loc_tweet_df.reset_index();\n",
    "loc_tweet_df = loc_tweet_df.drop(columns=['index'])\n",
    "\n",
    "print(clean_tweet_df.shape)\n",
    "print(sho_tweet_df.shape)\n",
    "print(loc_tweet_df.shape)"
   ]
  },
  {
   "cell_type": "code",
   "execution_count": null,
   "id": "2dd91110",
   "metadata": {},
   "outputs": [],
   "source": [
    "def sentiment_group (p): \n",
    "    if p > 0:\n",
    "        return 'positive'\n",
    "    elif p < 0:\n",
    "        return 'negative'\n",
    "    else:\n",
    "        return 'neutral'"
   ]
  },
  {
   "cell_type": "code",
   "execution_count": null,
   "id": "d4661917",
   "metadata": {},
   "outputs": [],
   "source": [
    "sentiment = pd.Series([sentiment_group(row_val) for row_val in list(loc_tweet_df['polarity'])])\n"
   ]
  },
  {
   "cell_type": "code",
   "execution_count": null,
   "id": "3e74246a",
   "metadata": {},
   "outputs": [],
   "source": [
    "sho_tweet_df = pd.concat([sho_tweet_df, sentiment.rename(\"sentiment\")], axis=1)\n",
    "loc_tweet_df = pd.concat([loc_tweet_df, sentiment.rename(\"sentiment\")], axis=1)\n",
    "\n",
    "sho_tweet_df.info()"
   ]
  },
  {
   "cell_type": "code",
   "execution_count": null,
   "id": "5dd86e9f",
   "metadata": {},
   "outputs": [],
   "source": [
    "loc_tweet_df.info()\n"
   ]
  },
  {
   "cell_type": "markdown",
   "id": "36b3b010",
   "metadata": {},
   "source": [
    "#  Inserting To Database\n"
   ]
  },
  {
   "cell_type": "code",
   "execution_count": null,
   "id": "2218359b",
   "metadata": {},
   "outputs": [],
   "source": [
    "# create a database if it doesn't exist\n",
    "db_m.createDB(dbName='tweets')\n",
    "\n",
    "# create a table if it doesn't exit\n",
    "db_m.createTables(dbName='tweets')\n",
    "\n",
    "# inserting data.\n",
    "insert_to_tweet_table(dbName='tweets', df=loc_clean_df, table_name='TweetInformation')"
   ]
  },
  {
   "cell_type": "code",
   "execution_count": null,
   "id": "6246311b",
   "metadata": {},
   "outputs": [],
   "source": [
    "loc_tweet_df[\"source\"].value_counts().head(5).plot(kind=\"pie\");"
   ]
  },
  {
   "cell_type": "code",
   "execution_count": null,
   "id": "01c9dc32",
   "metadata": {},
   "outputs": [],
   "source": [
    "# loading countries basic information module and extracting african countries\n",
    "from countries_info import countries\n",
    "african_countries = []\n",
    "for item in countries:\n",
    "    if item['continent'] == 'Africa':\n",
    "        african_countries.append(item['name'])\n",
    "        african_countries.append(item['capital'])\n",
    "    \n",
    "\n",
    "# extracting countries from africa \n",
    "ava_countries = {}\n",
    "for item in clean_tweet_df.location:\n",
    "    if item in african_countries:\n",
    "        if item not in ava_countries:\n",
    "            ava_countries[item] = 1\n",
    "        else:\n",
    "            ava_countries[item] = ava_countries[item]+1\n",
    "\n",
    "print(\"\\ntweet_count summary by african countries\\n\")\n",
    "# the count of tweets in association with each african countries.            \n",
    "afr_df = pd.DataFrame ({ 'places': ava_countries.keys(), 'tweet_count': ava_countries.values()})\n",
    "afr_df.sort_values(by=['tweet_count'], inplace=True, ascending = False)\n",
    "afr_df['percentage'] = ((afr_df['tweet_count']/loc_tweet_df.shape[0])*100).round(1)\n",
    "print(\"\\n\",afr_df, \"\\n\")\n",
    "\n",
    "# the tweet dataframe filtered by african countries\n",
    "afr_list = list(ava_countries.keys())\n",
    "afr_tweets_df = loc_tweet_df[loc_tweet_df['location'].isin(afr_list)]\n",
    "\n",
    "print(\"tweet count summary by top 10 global countries\\n\")\n",
    "\n",
    "top_loc = loc_tweet_df.groupby(['location']).size().sort_values(ascending=False).to_frame().reset_index().head(10)\n",
    "top_loc.columns = ['places', 'tweet_count']\n",
    "top_loc['percentage'] = ((top_loc['tweet_count']/loc_tweet_df.shape[0])*100).round(1)\n",
    "\n",
    "print(top_loc)"
   ]
  },
  {
   "cell_type": "code",
   "execution_count": null,
   "id": "090d512d",
   "metadata": {},
   "outputs": [],
   "source": [
    "labels = list(top_loc['places'])\n",
    "values = list(top_loc['tweet_count'])\n",
    "\n",
    "fig = plt.figure(figsize = (15, 5))\n",
    " \n",
    "# creating the bar plot\n",
    "plt.bar(labels, values, color ='purple',\n",
    "        width = 0.4)\n",
    " \n",
    "plt.xlabel(\"Locations\")\n",
    "plt.ylabel(\"Tweet Count\")\n",
    "plt.title(\"Tweets associated with locations\")\n",
    "plt.show()"
   ]
  },
  {
   "cell_type": "code",
   "execution_count": null,
   "id": "f69a6774",
   "metadata": {},
   "outputs": [],
   "source": [
    "gr_afr = afr_tweets_df.groupby(['location', 'sentiment']).size().to_frame().reset_index()\n",
    "gr_afr.columns=['location','sentiment', 'count']\n",
    "print(gr_afr)\n",
    "# grouping by country and sentiment\n",
    "#afr_tweets_df.groupby(['location', 'sentiment']).size().groupby(level=1).max() # grouping by country and sentiment"
   ]
  },
  {
   "cell_type": "code",
   "execution_count": null,
   "id": "3d3bd881",
   "metadata": {},
   "outputs": [],
   "source": [
    "#filtering dataframe by top locations\n",
    "top_loc_list = list(top_loc['places'])\n",
    "top_loc_tweets_df = loc_tweet_df[loc_tweet_df['location'].isin(top_loc_list)]\n",
    "\n",
    "#grouping by top locations and sentiment\n",
    "gr_all = top_loc_tweets_df.groupby(['location', 'sentiment']).size().to_frame().reset_index()\n",
    "gr_all.columns=['location','sentiment', 'count']\n",
    "print(gr_all)"
   ]
  },
  {
   "cell_type": "code",
   "execution_count": null,
   "id": "490a738a",
   "metadata": {},
   "outputs": [],
   "source": [
    "positive = len(loc_tweet_df[loc_tweet_df['sentiment'] == \"positive\"])\n",
    "negative = len(loc_tweet_df[loc_tweet_df['sentiment'] == \"negative\"])\n",
    "neutral = len(loc_tweet_df[loc_tweet_df['sentiment'] == \"neutral\"])\n",
    "\n",
    "labels = ['neutral', 'positive', 'negative']\n",
    "values = [negative, positive, neutral]\n",
    "\n",
    "fig = plt.figure(figsize = (15, 5))\n",
    " \n",
    "# creating the bar plot\n",
    "plt.bar(labels, values, color ='orange',\n",
    "        width = 0.4)\n",
    " \n",
    "plt.xlabel(\"Sentiment\")\n",
    "plt.ylabel(\"Tweet Count\")\n",
    "plt.title(\"Tweets associated with Sentiment\")\n",
    "plt.show()"
   ]
  },
  {
   "cell_type": "code",
   "execution_count": null,
   "id": "05eb23e4",
   "metadata": {},
   "outputs": [],
   "source": [
    "loc_tweet_df.groupby('sentiment')['clean_text'].count()\n"
   ]
  },
  {
   "cell_type": "markdown",
   "id": "d16dbb2e",
   "metadata": {},
   "source": [
    "Sentiment analysis"
   ]
  },
  {
   "cell_type": "code",
   "execution_count": null,
   "id": "f91a8a54",
   "metadata": {},
   "outputs": [],
   "source": [
    "len(sho_tweet_df['polarity'])\n"
   ]
  },
  {
   "cell_type": "code",
   "execution_count": null,
   "id": "ad145698",
   "metadata": {},
   "outputs": [],
   "source": [
    "sho_tweet_df = sho_tweet_df.drop(sho_tweet_df[sho_tweet_df.sentiment == 'neutral'].index)\n",
    "sho_tweet_df = sho_tweet_df.reset_index();\n",
    "sho_tweet_df = sho_tweet_df.drop(columns=['index'])\n",
    "sho_tweet_df.shape"
   ]
  },
  {
   "cell_type": "code",
   "execution_count": null,
   "id": "9c88b25b",
   "metadata": {},
   "outputs": [],
   "source": [
    "valueArray = pd.Series([1 if row_val == 'positive' else 0 for row_val in sho_tweet_df['sentiment']])\n"
   ]
  },
  {
   "cell_type": "code",
   "execution_count": null,
   "id": "a12368f4",
   "metadata": {},
   "outputs": [],
   "source": [
    "sho_tweet_df['valueArray'] = valueArray\n",
    "sho_tweet_df.shap"
   ]
  },
  {
   "cell_type": "code",
   "execution_count": null,
   "id": "00ececa4",
   "metadata": {},
   "outputs": [],
   "source": [
    "X = sho_tweet_df['clean_text']\n",
    "y = sho_tweet_df['valueArray'"
   ]
  },
  {
   "cell_type": "code",
   "execution_count": null,
   "id": "eb77206d",
   "metadata": {},
   "outputs": [],
   "source": [
    "X_train, X_test, y_train, y_test = train_test_split(X, y, test_size=0.25, random_state=42)\n"
   ]
  },
  {
   "cell_type": "code",
   "execution_count": null,
   "id": "d9f2bbc7",
   "metadata": {},
   "outputs": [],
   "source": [
    "print(X_train.size)\n",
    "print(X_test.size)\n",
    "print(y_train.size)\n",
    "print(y_test.size)"
   ]
  },
  {
   "cell_type": "code",
   "execution_count": null,
   "id": "79afffb2",
   "metadata": {},
   "outputs": [],
   "source": [
    "count_vect = CountVectorizer()\n",
    "X_train = X_train.replace(np.nan, '', regex=True)\n",
    "X_train_counts = count_vect.fit_transform(X_train)\n",
    "X_train_counts = X_train_counts.toarray()"
   ]
  },
  {
   "cell_type": "code",
   "execution_count": null,
   "id": "3aa7c3b4",
   "metadata": {},
   "outputs": [],
   "source": [
    "y_train = y_train.fillna(0)"
   ]
  },
  {
   "cell_type": "code",
   "execution_count": null,
   "id": "a9c4bdd8",
   "metadata": {},
   "outputs": [],
   "source": [
    "\n",
    "y_train = y_train.fillna(0)\n",
    "# scaling the input\n",
    "clf = make_pipeline(StandardScaler(), SGDClassifier(max_iter=9000, tol=1e-2))"
   ]
  },
  {
   "cell_type": "code",
   "execution_count": null,
   "id": "2ca63ca0",
   "metadata": {},
   "outputs": [],
   "source": [
    "clf.fit(X_train_counts, y_train)\n"
   ]
  },
  {
   "cell_type": "code",
   "execution_count": null,
   "id": "2d08cfa3",
   "metadata": {},
   "outputs": [],
   "source": [
    "X_test = X_test.replace(np.nan, '', regex=True)\n",
    "# use transform not fit_transform\n",
    "X_test_counts = count_vect.transform(X_test)\n",
    "X_test_counts = X_test_counts.toarray()\n",
    "# prediction = clf.prevaluedict(X_test_counts)\n",
    "prediction = clf.predict(X_test_counts)"
   ]
  },
  {
   "cell_type": "code",
   "execution_count": null,
   "id": "ec4d1a2d",
   "metadata": {},
   "outputs": [],
   "source": [
    "prediction = clf.predict(X_test_counts)\n"
   ]
  },
  {
   "cell_type": "code",
   "execution_count": null,
   "id": "465e7e4c",
   "metadata": {},
   "outputs": [],
   "source": [
    "np.mean(prediction == y_test)\n"
   ]
  },
  {
   "cell_type": "code",
   "execution_count": null,
   "id": "2a3c6766",
   "metadata": {},
   "outputs": [],
   "source": []
  },
  {
   "cell_type": "code",
   "execution_count": null,
   "id": "2acbf078",
   "metadata": {},
   "outputs": [],
   "source": []
  },
  {
   "cell_type": "code",
   "execution_count": null,
   "id": "c7bab046",
   "metadata": {},
   "outputs": [],
   "source": []
  },
  {
   "cell_type": "code",
   "execution_count": null,
   "id": "8a38711e",
   "metadata": {},
   "outputs": [],
   "source": []
  }
 ],
 "metadata": {
  "kernelspec": {
   "display_name": "Python 3 (ipykernel)",
   "language": "python",
   "name": "python3"
  },
  "language_info": {
   "codemirror_mode": {
    "name": "ipython",
    "version": 3
   },
   "file_extension": ".py",
   "mimetype": "text/x-python",
   "name": "python",
   "nbconvert_exporter": "python",
   "pygments_lexer": "ipython3",
   "version": "3.8.8"
  },
  "vscode": {
   "interpreter": {
    "hash": "a64e837968ba76e94c56c9b4d5fd774eaa292be1ba63723c587f1d17b7450a36"
   }
  }
 },
 "nbformat": 4,
 "nbformat_minor": 5
}
